{
 "cells": [
  {
   "cell_type": "code",
   "execution_count": 2,
   "id": "c86e0029-f66a-4c53-b63c-c476facffe18",
   "metadata": {},
   "outputs": [],
   "source": [
    "import numpy as np"
   ]
  },
  {
   "cell_type": "markdown",
   "id": "2770d6a3-9531-46e7-a409-9bfea0fb39ce",
   "metadata": {},
   "source": [
    "1. Create a NumPy array arr of integers from 0 to 5 and print its data type"
   ]
  },
  {
   "cell_type": "code",
   "execution_count": 3,
   "id": "ba1b2a2c-af3f-467c-a088-7741670c7b37",
   "metadata": {},
   "outputs": [
    {
     "name": "stdout",
     "output_type": "stream",
     "text": [
      "Array: [0 1 2 3 4 5]\n",
      "Data type: int32\n"
     ]
    }
   ],
   "source": [
    "arr = np.array([0, 1, 2, 3, 4, 5])\n",
    "print(\"Array:\", arr)\n",
    "print(\"Data type:\", arr.dtype)"
   ]
  },
  {
   "cell_type": "markdown",
   "id": "d3a6c95e-6fc1-4a02-ad2c-9c7adba2c3ac",
   "metadata": {},
   "source": [
    "2. Given a NumPy array arr, check if its data type is float64."
   ]
  },
  {
   "cell_type": "code",
   "execution_count": 4,
   "id": "d6b10eae-e3b0-4f95-bca9-94d15d4d6eba",
   "metadata": {},
   "outputs": [
    {
     "name": "stdout",
     "output_type": "stream",
     "text": [
      "The array is not of type float64.\n"
     ]
    }
   ],
   "source": [
    "if arr.dtype == np.float64:\n",
    "    print(\"The array is of type float64.\")\n",
    "else:\n",
    "    print(\"The array is not of type float64.\")"
   ]
  },
  {
   "cell_type": "markdown",
   "id": "ac91d030-13c7-4ba2-861b-d48a57d5f2a1",
   "metadata": {},
   "source": [
    "3. Create a NumPy array arr with data type complex128 containing three complex numbers"
   ]
  },
  {
   "cell_type": "code",
   "execution_count": 5,
   "id": "ab4271b5-3fa1-4f5a-9446-4e6b04ffba56",
   "metadata": {},
   "outputs": [
    {
     "name": "stdout",
     "output_type": "stream",
     "text": [
      "Array: [1.+2.j 3.+4.j 5.+6.j]\n",
      "Data type: complex128\n"
     ]
    }
   ],
   "source": [
    "arr = np.array([1+2j, 3+4j, 5+6j], dtype=np.complex128)\n",
    "print(\"Array:\", arr)\n",
    "print(\"Data type:\", arr.dtype)"
   ]
  },
  {
   "cell_type": "markdown",
   "id": "cccdd567-39c6-4138-8443-85408618a076",
   "metadata": {},
   "source": [
    "4. Convert an existing NumPy array arr of integers to float32 data type."
   ]
  },
  {
   "cell_type": "code",
   "execution_count": 6,
   "id": "ccefac53-c091-4973-b232-ef597c669909",
   "metadata": {},
   "outputs": [
    {
     "name": "stdout",
     "output_type": "stream",
     "text": [
      "Converted array: [1. 2. 3. 4.]\n",
      "Data type: float32\n"
     ]
    }
   ],
   "source": [
    "arr = np.array([1, 2, 3, 4])  \n",
    "converted = arr.astype(np.float32)\n",
    "print(\"Converted array:\", converted)\n",
    "print(\"Data type:\", converted.dtype)"
   ]
  },
  {
   "cell_type": "markdown",
   "id": "70d34ada-5b2f-47de-a9fb-88e8d4262a3e",
   "metadata": {},
   "source": [
    "5. Convert arr from float64 to float32 to reduce decimal precision."
   ]
  },
  {
   "cell_type": "code",
   "execution_count": 7,
   "id": "426b444b-5129-43e8-935a-8546bc3824b1",
   "metadata": {},
   "outputs": [
    {
     "name": "stdout",
     "output_type": "stream",
     "text": [
      "Original (float64): [1.23456789 2.3456789 ]\n",
      "Converted (float32): [1.2345679 2.3456788]\n"
     ]
    }
   ],
   "source": [
    "arr = np.array([1.23456789, 2.3456789], dtype=np.float64)\n",
    "converted = arr.astype(np.float32)\n",
    "print(\"Original (float64):\", arr)\n",
    "print(\"Converted (float32):\", converted)"
   ]
  },
  {
   "cell_type": "markdown",
   "id": "bc1b9017-db96-4991-81b9-6968166aa216",
   "metadata": {},
   "source": [
    "6. Function array_attributes returns shape, size, and data type."
   ]
  },
  {
   "cell_type": "code",
   "execution_count": 8,
   "id": "eeb8094e-9374-426b-87da-98f87c42f925",
   "metadata": {},
   "outputs": [
    {
     "name": "stdout",
     "output_type": "stream",
     "text": [
      "Attributes: ((2, 2), 4, dtype('int32'))\n"
     ]
    }
   ],
   "source": [
    "def array_attributes(arr):\n",
    "    return arr.shape, arr.size, arr.dtype\n",
    "\n",
    "a = np.array([[1, 2], [3, 4]])\n",
    "print(\"Attributes:\", array_attributes(a))"
   ]
  },
  {
   "cell_type": "markdown",
   "id": "db191652-472d-4c38-a0ab-86fc30def5b5",
   "metadata": {},
   "source": [
    "7. Function array_dimension returns the dimensionality"
   ]
  },
  {
   "cell_type": "code",
   "execution_count": 9,
   "id": "bc075dc5-0d11-4fff-b236-3719f89fc6b3",
   "metadata": {},
   "outputs": [
    {
     "name": "stdout",
     "output_type": "stream",
     "text": [
      "Dimension: 2\n"
     ]
    }
   ],
   "source": [
    "def array_dimension(arr):\n",
    "    return arr.ndim\n",
    "\n",
    "a = np.array([[1, 2], [3, 4]])\n",
    "print(\"Dimension:\", array_dimension(a))"
   ]
  },
  {
   "cell_type": "markdown",
   "id": "ab4b5a48-7045-4802-b849-d4c13a3b6dee",
   "metadata": {},
   "source": [
    "8. Function item_size_info returns item size and total size in bytes."
   ]
  },
  {
   "cell_type": "code",
   "execution_count": 10,
   "id": "3153a1d5-8463-4195-8808-8b7cf49311e3",
   "metadata": {},
   "outputs": [
    {
     "name": "stdout",
     "output_type": "stream",
     "text": [
      "Item size and total size: (4, 12)\n"
     ]
    }
   ],
   "source": [
    "def item_size_info(arr):\n",
    "    return arr.itemsize, arr.nbytes\n",
    "\n",
    "a = np.array([1, 2, 3], dtype=np.int32)\n",
    "print(\"Item size and total size:\", item_size_info(a))"
   ]
  },
  {
   "cell_type": "markdown",
   "id": "7e4c86f4-9d33-4078-8aad-270c7c99f80a",
   "metadata": {},
   "source": [
    "9. Function array_strides returns the strides of the given array."
   ]
  },
  {
   "cell_type": "code",
   "execution_count": 11,
   "id": "a6e23688-3d60-4cf6-94d9-ea80674850ce",
   "metadata": {},
   "outputs": [
    {
     "name": "stdout",
     "output_type": "stream",
     "text": [
      "Strides: (8, 4)\n"
     ]
    }
   ],
   "source": [
    "def array_strides(arr):\n",
    "    return arr.strides\n",
    "\n",
    "a = np.array([[1, 2], [3, 4]])\n",
    "print(\"Strides:\", array_strides(a))"
   ]
  },
  {
   "cell_type": "markdown",
   "id": "13fd48b5-df74-46f1-b477-81bc4f765c76",
   "metadata": {},
   "source": [
    "10. Function shape_stride_relationship returns shape and strides."
   ]
  },
  {
   "cell_type": "code",
   "execution_count": 12,
   "id": "36e6f853-e527-4bfb-9894-aedcc77f1519",
   "metadata": {},
   "outputs": [
    {
     "name": "stdout",
     "output_type": "stream",
     "text": [
      "Shape and strides: ((2, 2), (8, 4))\n"
     ]
    }
   ],
   "source": [
    "def shape_stride_relationship(arr):\n",
    "    return arr.shape, arr.strides\n",
    "\n",
    "a = np.array([[1, 2], [3, 4]])\n",
    "print(\"Shape and strides:\", shape_stride_relationship(a))"
   ]
  },
  {
   "cell_type": "markdown",
   "id": "1374a8cb-faf9-4e96-8ee1-e443dee735bf",
   "metadata": {},
   "source": [
    "11. Function create_zeros_array(n) – Returns a NumPy array of zeros with n elements."
   ]
  },
  {
   "cell_type": "code",
   "execution_count": 13,
   "id": "b15fd2d2-94a8-4e61-b622-a43f7e4c995e",
   "metadata": {},
   "outputs": [
    {
     "name": "stdout",
     "output_type": "stream",
     "text": [
      "Zeros array: [0. 0. 0. 0. 0.]\n"
     ]
    }
   ],
   "source": [
    "def create_zeros_array(n):\n",
    "    return np.zeros(n)\n",
    "\n",
    "print(\"Zeros array:\", create_zeros_array(5))"
   ]
  },
  {
   "cell_type": "markdown",
   "id": "f8be4310-c023-45cc-b1a4-40c63b85481c",
   "metadata": {},
   "source": [
    "12. Function create_ones_matrix(rows, cols) – Returns a 2D array filled with ones."
   ]
  },
  {
   "cell_type": "code",
   "execution_count": 14,
   "id": "0b6a4a37-2974-4856-b5b8-2339d1764406",
   "metadata": {},
   "outputs": [
    {
     "name": "stdout",
     "output_type": "stream",
     "text": [
      "Ones matrix:\n",
      " [[1. 1. 1. 1.]\n",
      " [1. 1. 1. 1.]\n",
      " [1. 1. 1. 1.]]\n"
     ]
    }
   ],
   "source": [
    "def create_ones_matrix(rows, cols):\n",
    "    return np.ones((rows, cols))\n",
    "\n",
    "print(\"Ones matrix:\\n\", create_ones_matrix(3, 4))"
   ]
  },
  {
   "cell_type": "markdown",
   "id": "5244358c-9fe7-44ec-bd8a-9b3c8799134f",
   "metadata": {},
   "source": [
    "13. Function generate_range_array(start, stop, step) – Returns a ranged NumPy array."
   ]
  },
  {
   "cell_type": "code",
   "execution_count": 15,
   "id": "eeb43858-f1d3-4b1c-b5b6-9e2bef43af39",
   "metadata": {},
   "outputs": [
    {
     "name": "stdout",
     "output_type": "stream",
     "text": [
      "Range array: [1 3 5 7 9]\n"
     ]
    }
   ],
   "source": [
    "def generate_range_array(start, stop, step):\n",
    "    return np.arange(start, stop, step)\n",
    "\n",
    "print(\"Range array:\", generate_range_array(1, 10, 2))"
   ]
  },
  {
   "cell_type": "markdown",
   "id": "b2578dd5-02d1-4779-adc5-f30a3510512e",
   "metadata": {},
   "source": [
    "14. Function generate_linear_space(start, stop, num) – Generates num equally spaced values."
   ]
  },
  {
   "cell_type": "code",
   "execution_count": 16,
   "id": "ad1b9e74-7577-487a-96f0-dd492105aaae",
   "metadata": {},
   "outputs": [
    {
     "name": "stdout",
     "output_type": "stream",
     "text": [
      "Linear spaced values: [ 0.   2.5  5.   7.5 10. ]\n"
     ]
    }
   ],
   "source": [
    "def generate_linear_space(start, stop, num):\n",
    "    return np.linspace(start, stop, num)\n",
    "\n",
    "print(\"Linear spaced values:\", generate_linear_space(0, 10, 5))"
   ]
  },
  {
   "cell_type": "markdown",
   "id": "7fae2e7d-1d38-4c77-8f56-1802ec404466",
   "metadata": {},
   "source": [
    "15. Function create_identity_matrix(n) – Creates an identity matrix using np.eye."
   ]
  },
  {
   "cell_type": "code",
   "execution_count": 17,
   "id": "1b16201d-fb04-4f64-b763-4db48d566f90",
   "metadata": {},
   "outputs": [
    {
     "name": "stdout",
     "output_type": "stream",
     "text": [
      "Identity matrix:\n",
      " [[1. 0. 0. 0.]\n",
      " [0. 1. 0. 0.]\n",
      " [0. 0. 1. 0.]\n",
      " [0. 0. 0. 1.]]\n"
     ]
    }
   ],
   "source": [
    "def create_identity_matrix(n):\n",
    "    return np.eye(n)\n",
    "\n",
    "print(\"Identity matrix:\\n\", create_identity_matrix(4))"
   ]
  },
  {
   "cell_type": "markdown",
   "id": "0a87f2c8-57df-4d7b-a5ba-83fe42969674",
   "metadata": {},
   "source": [
    "16. Function to convert a Python list into a NumPy array."
   ]
  },
  {
   "cell_type": "code",
   "execution_count": 18,
   "id": "b4f95371-57ee-4e1c-80ee-e963936daec9",
   "metadata": {},
   "outputs": [
    {
     "name": "stdout",
     "output_type": "stream",
     "text": [
      "NumPy array: [1 2 3 4 5]\n"
     ]
    }
   ],
   "source": [
    "def list_to_numpy_array(py_list):\n",
    "    return np.array(py_list)\n",
    "\n",
    "my_list = [1, 2, 3, 4, 5]\n",
    "print(\"NumPy array:\", list_to_numpy_array(my_list))"
   ]
  },
  {
   "cell_type": "markdown",
   "id": "4e28f0fa-5bc3-49bb-9336-5eab5a8f44e2",
   "metadata": {},
   "source": [
    "17. Create a NumPy array and use .view() to create a new view with the same data."
   ]
  },
  {
   "cell_type": "code",
   "execution_count": 19,
   "id": "ba1ba2dc-0b57-4281-9c66-e5294ccf01ce",
   "metadata": {},
   "outputs": [
    {
     "name": "stdout",
     "output_type": "stream",
     "text": [
      "Original array: [10 20 30 40]\n",
      "View of the array: [10 20 30 40]\n"
     ]
    }
   ],
   "source": [
    "arr = np.array([10, 20, 30, 40])\n",
    "arr_view = arr.view()\n",
    "\n",
    "print(\"Original array:\", arr)\n",
    "print(\"View of the array:\", arr_view)"
   ]
  },
  {
   "cell_type": "markdown",
   "id": "c08fd75a-627d-4521-8228-116972ad8447",
   "metadata": {},
   "source": [
    "18. Function to concatenate two NumPy arrays along a specified axis."
   ]
  },
  {
   "cell_type": "code",
   "execution_count": 20,
   "id": "a917137a-5386-4c84-8fe9-5b92a1b39731",
   "metadata": {},
   "outputs": [
    {
     "name": "stdout",
     "output_type": "stream",
     "text": [
      "Concatenated along axis 0:\n",
      " [[1 2]\n",
      " [3 4]\n",
      " [5 6]\n",
      " [7 8]]\n",
      "Concatenated along axis 1:\n",
      " [[1 2 5 6]\n",
      " [3 4 7 8]]\n"
     ]
    }
   ],
   "source": [
    "def concatenate_arrays(arr1, arr2, axis=0):\n",
    "    return np.concatenate((arr1, arr2), axis=axis)\n",
    "\n",
    "a = np.array([[1, 2], [3, 4]])\n",
    "b = np.array([[5, 6], [7, 8]])\n",
    "print(\"Concatenated along axis 0:\\n\", concatenate_arrays(a, b, axis=0))\n",
    "print(\"Concatenated along axis 1:\\n\", concatenate_arrays(a, b, axis=1))"
   ]
  },
  {
   "cell_type": "markdown",
   "id": "a0b633c9-2f50-4686-9d70-3f2cae12544c",
   "metadata": {},
   "source": [
    "19. Concatenate two arrays with different shapes horizontally using numpy.concatenate."
   ]
  },
  {
   "cell_type": "code",
   "execution_count": 21,
   "id": "90eb10f7-404f-40c1-97ea-679503581c0b",
   "metadata": {},
   "outputs": [
    {
     "name": "stdout",
     "output_type": "stream",
     "text": [
      "Horizontally concatenated arrays:\n",
      " [[1 4]\n",
      " [2 5]\n",
      " [3 6]]\n"
     ]
    }
   ],
   "source": [
    "a = np.array([[1], [2], [3]])\n",
    "b = np.array([[4], [5], [6]])\n",
    "\n",
    "h_concat = np.concatenate((a, b), axis=1)\n",
    "print(\"Horizontally concatenated arrays:\\n\", h_concat)"
   ]
  },
  {
   "cell_type": "markdown",
   "id": "da347501-eb12-4677-b999-33b04c5f573e",
   "metadata": {},
   "source": [
    "20. Vertically stack multiple arrays from a list using numpy.vstack."
   ]
  },
  {
   "cell_type": "code",
   "execution_count": 22,
   "id": "62c131f6-f8f8-4392-b837-f5debf3daed8",
   "metadata": {},
   "outputs": [
    {
     "name": "stdout",
     "output_type": "stream",
     "text": [
      "Vertically stacked arrays:\n",
      " [[1 2 3]\n",
      " [4 5 6]\n",
      " [7 8 9]]\n"
     ]
    }
   ],
   "source": [
    "arrays = [np.array([1, 2, 3]), np.array([4, 5, 6]), np.array([7, 8, 9])]\n",
    "vstacked = np.vstack(arrays)\n",
    "print(\"Vertically stacked arrays:\\n\", vstacked)"
   ]
  },
  {
   "cell_type": "markdown",
   "id": "747beee2-c193-449f-9de2-ea1e4389f05d",
   "metadata": {},
   "source": [
    "21. Function to generate an array of integers within a specified range (inclusive) with a step."
   ]
  },
  {
   "cell_type": "code",
   "execution_count": 23,
   "id": "10d436a5-866b-43c4-9619-d264cef73eaf",
   "metadata": {},
   "outputs": [
    {
     "name": "stdout",
     "output_type": "stream",
     "text": [
      "Integer range: [1 3 5 7 9]\n"
     ]
    }
   ],
   "source": [
    "def generate_integer_range(start, stop, step):\n",
    "    return np.arange(start, stop + 1, step) \n",
    "\n",
    "print(\"Integer range:\", generate_integer_range(1, 10, 2))"
   ]
  },
  {
   "cell_type": "markdown",
   "id": "1f8f868b-695a-4fdd-920f-3952c7cb62e9",
   "metadata": {},
   "source": [
    "22. Generate 10 equally spaced values between 0 and 1 using NumPy."
   ]
  },
  {
   "cell_type": "code",
   "execution_count": 24,
   "id": "48cc78c5-60da-4bb3-b356-d303224ffabd",
   "metadata": {},
   "outputs": [
    {
     "name": "stdout",
     "output_type": "stream",
     "text": [
      "10 equally spaced values between 0 and 1: [0.         0.11111111 0.22222222 0.33333333 0.44444444 0.55555556\n",
      " 0.66666667 0.77777778 0.88888889 1.        ]\n"
     ]
    }
   ],
   "source": [
    "equally_spaced = np.linspace(0, 1, 10)\n",
    "print(\"10 equally spaced values between 0 and 1:\", equally_spaced)"
   ]
  },
  {
   "cell_type": "markdown",
   "id": "93e14027-85db-4e9f-89c6-482f8b7bc49b",
   "metadata": {},
   "source": [
    "23. Create 5 logarithmically spaced values between 1 and 1000."
   ]
  },
  {
   "cell_type": "code",
   "execution_count": 25,
   "id": "adbf68c4-66d3-48cb-878b-44dfa5e0dab5",
   "metadata": {},
   "outputs": [
    {
     "name": "stdout",
     "output_type": "stream",
     "text": [
      "5 logarithmically spaced values between 1 and 1000: [   1.            5.62341325   31.6227766   177.827941   1000.        ]\n"
     ]
    }
   ],
   "source": [
    "log_spaced = np.logspace(0, 3, 5)\n",
    "print(\"5 logarithmically spaced values between 1 and 1000:\", log_spaced)"
   ]
  },
  {
   "cell_type": "code",
   "execution_count": 26,
   "id": "52a7d67e-a71b-4560-b05a-31fab739edf0",
   "metadata": {},
   "outputs": [],
   "source": [
    "import numpy as np\n",
    "import pandas as pd"
   ]
  },
  {
   "cell_type": "markdown",
   "id": "ff5f5250-9285-41a4-8737-068f2cd41165",
   "metadata": {},
   "source": [
    "24. Create a Pandas DataFrame from a NumPy array with 5 rows and 3 columns of random integers (1–100)."
   ]
  },
  {
   "cell_type": "code",
   "execution_count": 27,
   "id": "4c3edf6d-6a01-4e49-8e18-4848d77fdced",
   "metadata": {},
   "outputs": [
    {
     "name": "stdout",
     "output_type": "stream",
     "text": [
      "DataFrame with random integers:\n",
      "     A   B   C\n",
      "0  91  96  58\n",
      "1  75  50  17\n",
      "2  69  24  28\n",
      "3  57  20  91\n",
      "4  45  45  12\n"
     ]
    }
   ],
   "source": [
    "array = np.random.randint(1, 101, size=(5, 3))\n",
    "\n",
    "df = pd.DataFrame(array, columns=['A', 'B', 'C'])\n",
    "\n",
    "print(\"DataFrame with random integers:\\n\", df)"
   ]
  },
  {
   "cell_type": "markdown",
   "id": "33d94119-bcc7-44a6-9d16-da4c78e55d8c",
   "metadata": {},
   "source": [
    "25. Function to replace all negative values in a specific column with zeros using NumPy."
   ]
  },
  {
   "cell_type": "code",
   "execution_count": 28,
   "id": "2e66cfaa-64e8-4057-9680-276261e372b4",
   "metadata": {},
   "outputs": [
    {
     "name": "stdout",
     "output_type": "stream",
     "text": [
      "Original array:\n",
      " [[ 1 -5  3]\n",
      " [-2  6 -7]\n",
      " [ 4 -1  9]]\n",
      "Updated array (negatives in column 1 replaced with 0):\n",
      " [[ 1  0  3]\n",
      " [-2  6 -7]\n",
      " [ 4  0  9]]\n"
     ]
    }
   ],
   "source": [
    "def replace_negatives_with_zero(arr, column_index):\n",
    "    arr_copy = arr.copy()\n",
    "    arr_copy[arr_copy[:, column_index] < 0, column_index] = 0\n",
    "    return arr_copy\n",
    "\n",
    "sample_array = np.array([[1, -5, 3],\n",
    "                         [-2, 6, -7],\n",
    "                         [4, -1, 9]])\n",
    "\n",
    "print(\"Original array:\\n\", sample_array)\n",
    "\n",
    "updated_array = replace_negatives_with_zero(sample_array, 1)\n",
    "print(\"Updated array (negatives in column 1 replaced with 0):\\n\", updated_array)"
   ]
  },
  {
   "cell_type": "markdown",
   "id": "847b29c4-b8f0-4a6b-844e-8248cb1c4ef2",
   "metadata": {},
   "source": [
    "26. Access the 3rd element from a given NumPy array."
   ]
  },
  {
   "cell_type": "code",
   "execution_count": 29,
   "id": "84eda352-f172-4160-b944-5773a05f2dab",
   "metadata": {},
   "outputs": [
    {
     "name": "stdout",
     "output_type": "stream",
     "text": [
      "3rd element: 30\n"
     ]
    }
   ],
   "source": [
    "arr = np.array([10, 20, 30, 40, 50])\n",
    "third_element = arr[2]  \n",
    "print(\"3rd element:\", third_element)"
   ]
  },
  {
   "cell_type": "markdown",
   "id": "acdabfb4-f07d-42bc-98ff-fc6f80f9ae1b",
   "metadata": {},
   "source": [
    "27. Retrieve the element at index (1, 2) from a 2D array."
   ]
  },
  {
   "cell_type": "code",
   "execution_count": 30,
   "id": "96be503b-cac6-489b-8ed9-a5c09c261424",
   "metadata": {},
   "outputs": [
    {
     "name": "stdout",
     "output_type": "stream",
     "text": [
      "Element at (1, 2): 6\n"
     ]
    }
   ],
   "source": [
    "arr_2d = np.array([[1, 2, 3],\n",
    "                   [4, 5, 6],\n",
    "                   [7, 8, 9]])\n",
    "\n",
    "element = arr_2d[1, 2]\n",
    "print(\"Element at (1, 2):\", element)"
   ]
  },
  {
   "cell_type": "markdown",
   "id": "5d6353f1-64a0-4a7a-98f8-277d04a72d39",
   "metadata": {},
   "source": [
    "28. Extract elements greater than 5 using boolean indexing."
   ]
  },
  {
   "cell_type": "code",
   "execution_count": 31,
   "id": "ae6c3e1f-e9f8-41b6-91bb-9ac0800a1a5a",
   "metadata": {},
   "outputs": [
    {
     "name": "stdout",
     "output_type": "stream",
     "text": [
      "Elements > 5: [7 9]\n"
     ]
    }
   ],
   "source": [
    "arr = np.array([2, 5, 7, 1, 9, 3])\n",
    "greater_than_five = arr[arr > 5]\n",
    "print(\"Elements > 5:\", greater_than_five)"
   ]
  },
  {
   "cell_type": "markdown",
   "id": "92b7cb7b-95ad-4970-8cf1-e4dd9ed8f955",
   "metadata": {},
   "source": [
    "29. Slice elements from index 2 to 5 (inclusive) from a NumPy array."
   ]
  },
  {
   "cell_type": "code",
   "execution_count": 32,
   "id": "da93cc35-a819-411a-b34a-a367700baf6e",
   "metadata": {},
   "outputs": [
    {
     "name": "stdout",
     "output_type": "stream",
     "text": [
      "Sliced elements (2 to 5): [30 40 50 60]\n"
     ]
    }
   ],
   "source": [
    "arr = np.array([10, 20, 30, 40, 50, 60, 70])\n",
    "sliced = arr[2:6]  \n",
    "print(\"Sliced elements (2 to 5):\", sliced)"
   ]
  },
  {
   "cell_type": "markdown",
   "id": "63829543-330b-4567-8aa8-3f6c2e090cf9",
   "metadata": {},
   "source": [
    "30. Slice the sub-array [[2, 3], [5, 6]] from a 2D array."
   ]
  },
  {
   "cell_type": "code",
   "execution_count": 33,
   "id": "1b50ccbf-c6a3-4470-ac04-2d2e957dcb39",
   "metadata": {},
   "outputs": [
    {
     "name": "stdout",
     "output_type": "stream",
     "text": [
      "Sub-array:\n",
      " [[2 3]\n",
      " [5 6]]\n"
     ]
    }
   ],
   "source": [
    "arr_2d = np.array([[1, 2, 3],\n",
    "                   [4, 5, 6],\n",
    "                   [7, 8, 9]])\n",
    "\n",
    "sub_array = arr_2d[0:2, 1:3]\n",
    "print(\"Sub-array:\\n\", sub_array)"
   ]
  },
  {
   "cell_type": "markdown",
   "id": "56369466-6e2b-4750-8e09-993f52a05514",
   "metadata": {},
   "source": [
    "31. Extract elements based on indices from a 2D array."
   ]
  },
  {
   "cell_type": "code",
   "execution_count": 34,
   "id": "e049e5b5-84ec-479a-b3e6-656422708f3d",
   "metadata": {},
   "outputs": [
    {
     "name": "stdout",
     "output_type": "stream",
     "text": [
      "Extracted elements: [10 50 90]\n"
     ]
    }
   ],
   "source": [
    "arr_2d = np.array([[10, 20, 30],\n",
    "                   [40, 50, 60],\n",
    "                   [70, 80, 90]])\n",
    "\n",
    "indices = [0, 4, 8]  # These refer to flattened positions\n",
    "extracted = arr_2d.flatten()[indices]\n",
    "print(\"Extracted elements:\", extracted)"
   ]
  },
  {
   "cell_type": "markdown",
   "id": "fc0f555b-4443-41d5-b5f0-e473eddc160d",
   "metadata": {},
   "source": [
    "32. Filter elements greater than a threshold using boolean indexing."
   ]
  },
  {
   "cell_type": "code",
   "execution_count": 35,
   "id": "76b1d0af-e875-4b60-916b-a43d5d1b0d2f",
   "metadata": {},
   "outputs": [
    {
     "name": "stdout",
     "output_type": "stream",
     "text": [
      "Elements greater than 5 : [ 8 10  6]\n"
     ]
    }
   ],
   "source": [
    "arr = np.array([1, 5, 8, 3, 10, 6])\n",
    "threshold = 5\n",
    "filtered = arr[arr > threshold]\n",
    "print(\"Elements greater than\", threshold, \":\", filtered)"
   ]
  },
  {
   "cell_type": "markdown",
   "id": "7a48dce9-136e-4829-90cb-c5428e962e07",
   "metadata": {},
   "source": [
    "33. Extract specific elements from a 3D array using separate index arrays."
   ]
  },
  {
   "cell_type": "code",
   "execution_count": 36,
   "id": "cbe6e154-dd1e-483d-946e-6a2b2709906b",
   "metadata": {},
   "outputs": [
    {
     "name": "stdout",
     "output_type": "stream",
     "text": [
      "Extracted elements from 3D array: [ 5 10 24]\n"
     ]
    }
   ],
   "source": [
    "arr_3d = np.arange(27).reshape((3, 3, 3))\n",
    "\n",
    "i = np.array([0, 1, 2])\n",
    "j = np.array([1, 0, 2])\n",
    "k = np.array([2, 1, 0])\n",
    "\n",
    "elements = arr_3d[i, j, k]\n",
    "print(\"Extracted elements from 3D array:\", elements)"
   ]
  },
  {
   "cell_type": "markdown",
   "id": "03fee3cf-4026-4fbf-b1ce-e44cfaf10942",
   "metadata": {},
   "source": [
    "34. Return elements satisfying two boolean conditions."
   ]
  },
  {
   "cell_type": "code",
   "execution_count": 37,
   "id": "918e93c4-9bc2-48aa-9be4-33b9157a0abe",
   "metadata": {},
   "outputs": [
    {
     "name": "stdout",
     "output_type": "stream",
     "text": [
      "Elements > 5 and < 15: [ 7 10 13]\n"
     ]
    }
   ],
   "source": [
    "arr = np.array([1, 4, 7, 10, 13, 16])\n",
    "\n",
    "result = arr[(arr > 5) & (arr < 15)]\n",
    "print(\"Elements > 5 and < 15:\", result)"
   ]
  },
  {
   "cell_type": "markdown",
   "id": "9b1fa8ba-0f52-4ffe-8cb5-6cb3672c4d05",
   "metadata": {},
   "source": [
    "35. Extract elements from a 2D array using separate row and column index arrays."
   ]
  },
  {
   "cell_type": "code",
   "execution_count": 38,
   "id": "65f59c59-51a9-44c4-a15d-83f0b5a51525",
   "metadata": {},
   "outputs": [
    {
     "name": "stdout",
     "output_type": "stream",
     "text": [
      "Extracted elements using row and column indices: [30 50 70]\n"
     ]
    }
   ],
   "source": [
    "arr_2d = np.array([[10, 20, 30],\n",
    "                   [40, 50, 60],\n",
    "                   [70, 80, 90]])\n",
    "\n",
    "rows = np.array([0, 1, 2])\n",
    "cols = np.array([2, 1, 0])\n",
    "\n",
    "result = arr_2d[rows, cols]\n",
    "print(\"Extracted elements using row and column indices:\", result)"
   ]
  },
  {
   "cell_type": "markdown",
   "id": "0a2fdb5a-05dd-487f-bb5e-e19b1cbd703d",
   "metadata": {},
   "source": [
    "36. Add scalar 5 to every element of an array using broadcasting."
   ]
  },
  {
   "cell_type": "code",
   "execution_count": 39,
   "id": "6156f4da-7cf8-4584-833b-78434e9dc47e",
   "metadata": {},
   "outputs": [
    {
     "name": "stdout",
     "output_type": "stream",
     "text": [
      "Array after adding 5: [6 7 8 9]\n"
     ]
    }
   ],
   "source": [
    "arr = np.array([1, 2, 3, 4])\n",
    "result = arr + 5\n",
    "print(\"Array after adding 5:\", result)"
   ]
  },
  {
   "cell_type": "markdown",
   "id": "a9bcc0a5-e2ab-407f-970c-5ab8a35fc675",
   "metadata": {},
   "source": [
    "37. Multiply each row of a (3, 4) array by corresponding elements of a (1, 3) array."
   ]
  },
  {
   "cell_type": "code",
   "execution_count": 40,
   "id": "060472aa-1719-4aef-8634-4c82f5ddbb49",
   "metadata": {},
   "outputs": [
    {
     "name": "stdout",
     "output_type": "stream",
     "text": [
      "Result of row-wise multiplication:\n",
      " [[ 2  4  6  8]\n",
      " [15 18 21 24]\n",
      " [36 40 44 48]]\n"
     ]
    }
   ],
   "source": [
    "arr = np.array([[1, 2, 3, 4],\n",
    "                [5, 6, 7, 8],\n",
    "                [9, 10, 11, 12]])\n",
    "\n",
    "row_factors = np.array([[2, 3, 4]])  \n",
    "result = arr * row_factors.T        \n",
    "\n",
    "print(\"Result of row-wise multiplication:\\n\", result)"
   ]
  },
  {
   "cell_type": "markdown",
   "id": "b23881d8-e10a-4c2a-9b3c-06c8835f2152",
   "metadata": {},
   "source": [
    "38. Add a (1, 4) array to every row of a (4, 3) array using broadcasting."
   ]
  },
  {
   "cell_type": "code",
   "execution_count": 41,
   "id": "7ac8e544-859d-4feb-b89a-ddfb5cd6e2b1",
   "metadata": {},
   "outputs": [
    {
     "name": "stdout",
     "output_type": "stream",
     "text": [
      "Result of broadcasting addition:\n",
      " [[101 102 103]\n",
      " [204 205 206]\n",
      " [307 308 309]\n",
      " [410 411 412]]\n"
     ]
    }
   ],
   "source": [
    "base = np.array([[1, 2, 3],\n",
    "                 [4, 5, 6],\n",
    "                 [7, 8, 9],\n",
    "                 [10, 11, 12]])  \n",
    "\n",
    "adder = np.array([[100, 200, 300, 400]]) \n",
    "\n",
    "result = (base.T + adder).T\n",
    "print(\"Result of broadcasting addition:\\n\", result)"
   ]
  },
  {
   "cell_type": "markdown",
   "id": "8b7233f5-dfc6-4653-864e-fe479c4eed34",
   "metadata": {},
   "source": [
    "39. Add two arrays of shapes (3, 1) and (1, 3) using broadcasting."
   ]
  },
  {
   "cell_type": "markdown",
   "id": "be3ecf14-97d5-49d8-839b-8e6b7175f782",
   "metadata": {},
   "source": [
    "a = np.array([[1], [2], [3]])  # Shape (3,1)\n",
    "b = np.array([[10, 20, 30]])   # Shape (1,3)\n",
    "\n",
    "result = a + b  # Broadcasts to shape (3,3)\n",
    "print(\"Broadcasted addition result:\\n\", result)"
   ]
  },
  {
   "cell_type": "markdown",
   "id": "99512227-68ea-4ae8-afd8-992bef29e0cc",
   "metadata": {},
   "source": [
    "40. Handle shape incompatibility during multiplication between (2, 3) and (2, 2)."
   ]
  },
  {
   "cell_type": "code",
   "execution_count": 45,
   "id": "468a93c1-f625-40ad-bd7a-ff07347e271b",
   "metadata": {},
   "outputs": [
    {
     "name": "stdout",
     "output_type": "stream",
     "text": [
      "Error: operands could not be broadcast together with shapes (2,3) (2,2) \n",
      "To fix: reshape or align shapes using broadcasting rules.\n"
     ]
    }
   ],
   "source": [
    "a = np.array([[1, 2, 3],\n",
    "              [4, 5, 6]])  \n",
    "\n",
    "b = np.array([[10, 20],\n",
    "              [30, 40]]) \n",
    "\n",
    "try:\n",
    "    result = a * b  \n",
    "except ValueError as e:\n",
    "    print(\"Error:\", e)\n",
    "    print(\"To fix: reshape or align shapes using broadcasting rules.\")"
   ]
  },
  {
   "cell_type": "markdown",
   "id": "458bb4db-f2da-4c0c-826e-c70b2ec0b6ce",
   "metadata": {},
   "source": [
    "41. Calculate column-wise mean of a 2D array"
   ]
  },
  {
   "cell_type": "code",
   "execution_count": 43,
   "id": "18ab93e7-d9b7-47db-8bc7-7da29e559147",
   "metadata": {},
   "outputs": [
    {
     "name": "stdout",
     "output_type": "stream",
     "text": [
      "Column-wise mean: [5. 6. 7. 8.]\n"
     ]
    }
   ],
   "source": [
    "col_mean = np.mean(arr, axis=0)\n",
    "print(\"Column-wise mean:\", col_mean)"
   ]
  },
  {
   "cell_type": "code",
   "execution_count": 46,
   "id": "ab5e2e3e-be0a-4820-8e70-882f9f0d2c23",
   "metadata": {},
   "outputs": [
    {
     "name": "stdout",
     "output_type": "stream",
     "text": [
      "Maximum value in each row: [ 4  8 12]\n"
     ]
    }
   ],
   "source": [
    "# 42. Find maximum value in each row\n",
    "row_max = np.max(arr, axis=1)\n",
    "print(\"Maximum value in each row:\", row_max)"
   ]
  },
  {
   "cell_type": "code",
   "execution_count": 47,
   "id": "d87b5bc8-e96a-4de4-9e50-68ab90ad5a81",
   "metadata": {},
   "outputs": [
    {
     "name": "stdout",
     "output_type": "stream",
     "text": [
      "Indices of max values in each column: [2 2 2 2]\n"
     ]
    }
   ],
   "source": [
    "# 43. Find indices of maximum values in each column\n",
    "col_max_indices = np.argmax(arr, axis=0)\n",
    "print(\"Indices of max values in each column:\", col_max_indices)"
   ]
  },
  {
   "cell_type": "code",
   "execution_count": 48,
   "id": "9b81f22a-004b-4364-a164-7448f5185f9e",
   "metadata": {},
   "outputs": [
    {
     "name": "stdout",
     "output_type": "stream",
     "text": [
      "Moving sum along rows:\n",
      " [[ 3  5  7]\n",
      " [11 13 15]\n",
      " [19 21 23]]\n"
     ]
    }
   ],
   "source": [
    "# 44. Apply a custom function to compute moving sum along rows\n",
    "def moving_sum(row, window=2):\n",
    "    return np.convolve(row, np.ones(window, dtype=int), 'valid')\n",
    "\n",
    "moving_sum_rows = np.apply_along_axis(moving_sum, axis=1, arr=arr)\n",
    "print(\"Moving sum along rows:\\n\", moving_sum_rows)"
   ]
  },
  {
   "cell_type": "code",
   "execution_count": 49,
   "id": "ae51c187-e370-4b92-8907-ef17dfa2b7ac",
   "metadata": {},
   "outputs": [
    {
     "name": "stdout",
     "output_type": "stream",
     "text": [
      "All elements even in each column: [False  True False  True]\n"
     ]
    }
   ],
   "source": [
    "# 45. Check if all elements in each column are even\n",
    "are_all_even_columns = np.all(arr % 2 == 0, axis=0)\n",
    "print(\"All elements even in each column:\", are_all_even_columns)"
   ]
  },
  {
   "cell_type": "code",
   "execution_count": 50,
   "id": "e9cba2ca-e095-4505-b6cb-9925ece02af0",
   "metadata": {},
   "outputs": [
    {
     "name": "stdout",
     "output_type": "stream",
     "text": [
      "Reshaped array:\n",
      " [[1 2]\n",
      " [3 4]\n",
      " [5 6]]\n"
     ]
    }
   ],
   "source": [
    "# 46. Reshape a given array into dimensions m x n\n",
    "arr = np.array([[1, 2, 3], [4, 5, 6]])\n",
    "arr1 = np.array([[1, 2], [3, 4]])\n",
    "arr2 = np.array([[5, 6], [7, 8]])\n",
    "reshaped = np.reshape(arr, (3, 2))  \n",
    "print(\"Reshaped array:\\n\", reshaped)"
   ]
  },
  {
   "cell_type": "code",
   "execution_count": 51,
   "id": "0d4ca215-fdf3-4593-8391-9be1af230ef7",
   "metadata": {},
   "outputs": [
    {
     "name": "stdout",
     "output_type": "stream",
     "text": [
      "Concatenated along axis 0:\n",
      " [[1 2]\n",
      " [3 4]\n",
      " [5 6]\n",
      " [7 8]]\n",
      "Concatenated along axis 1:\n",
      " [[1 2 5 6]\n",
      " [3 4 7 8]]\n"
     ]
    }
   ],
   "source": [
    "# 48. Concatenate two arrays along a specified axis\n",
    "arr = np.array([[1, 2, 3], [4, 5, 6]])\n",
    "arr1 = np.array([[1, 2], [3, 4]])\n",
    "arr2 = np.array([[5, 6], [7, 8]])\n",
    "concat_axis0 = np.concatenate((arr1, arr2), axis=0)  # Vertically\n",
    "concat_axis1 = np.concatenate((arr1, arr2), axis=1)  # Horizontally\n",
    "print(\"Concatenated along axis 0:\\n\", concat_axis0)\n",
    "print(\"Concatenated along axis 1:\\n\", concat_axis1)"
   ]
  },
  {
   "cell_type": "code",
   "execution_count": 56,
   "id": "5e891a64-6b1b-4dde-96c3-422dbafabb55",
   "metadata": {},
   "outputs": [
    {
     "name": "stdout",
     "output_type": "stream",
     "text": [
      "Split along columns:\n",
      " [array([[10, 20],\n",
      "       [50, 60]]), array([[30, 40],\n",
      "       [70, 80]])]\n",
      "Split along rows:\n",
      " [array([[10, 20, 30, 40]]), array([[50, 60, 70, 80]])]\n",
      "Unequal split along columns:\n",
      " [array([[10, 20],\n",
      "       [50, 60]]), array([[30],\n",
      "       [70]]), array([[40],\n",
      "       [80]])]\n"
     ]
    }
   ],
   "source": [
    "# 49. Split an array into sub-arrays along a specified axis\n",
    "arr = np.array([[10, 20, 30, 40],\n",
    "                [50, 60, 70, 80]])\n",
    "\n",
    "split_cols = np.split(arr, 2, axis=1)\n",
    "print(\"Split along columns:\\n\", split_cols)\n",
    "\n",
    "split_rows = np.split(arr, 2, axis=0)\n",
    "print(\"Split along rows:\\n\", split_rows)\n",
    "\n",
    "unequal_split = np.array_split(arr, 3, axis=1)\n",
    "print(\"Unequal split along columns:\\n\", unequal_split)"
   ]
  },
  {
   "cell_type": "code",
   "execution_count": 55,
   "id": "1c582c7f-fe25-4717-aa11-2071b3d25d36",
   "metadata": {},
   "outputs": [
    {
     "name": "stdout",
     "output_type": "stream",
     "text": [
      "After insertion: [10 20 99 30 40 50]\n",
      "After deletion: [10 20 30 50]\n"
     ]
    }
   ],
   "source": [
    "# 50. Insert and delete elements at specified indices from an array\n",
    "arr = np.array([[1, 2, 3], [4, 5, 6]])\n",
    "arr1 = np.array([[1, 2], [3, 4]])\n",
    "arr2 = np.array([[5, 6], [7, 8]])\n",
    "\n",
    "arr3 = np.array([10, 20, 30, 40, 50])\n",
    "inserted = np.insert(arr3, 2, 99)\n",
    "print(\"After insertion:\", inserted)\n",
    "deleted = np.delete(arr3, 3)\n",
    "print(\"After deletion:\", deleted)"
   ]
  },
  {
   "cell_type": "code",
   "execution_count": 57,
   "id": "cff04839-7610-43f4-887b-c9567353a615",
   "metadata": {},
   "outputs": [
    {
     "name": "stdout",
     "output_type": "stream",
     "text": [
      "Element-wise addition: [ 3  6  9 12]\n"
     ]
    }
   ],
   "source": [
    "# 51. Element-wise addition\n",
    "arr1 = np.array([2, 4, 6, 8])\n",
    "arr2 = np.array([1, 2, 3, 4])\n",
    "\n",
    "addition = arr1 + arr2\n",
    "print(\"Element-wise addition:\", addition)"
   ]
  },
  {
   "cell_type": "code",
   "execution_count": 58,
   "id": "77155064-74e6-4f73-90b4-9ab8a8dbd609",
   "metadata": {},
   "outputs": [
    {
     "name": "stdout",
     "output_type": "stream",
     "text": [
      "Element-wise subtraction: [1 2 3 4]\n"
     ]
    }
   ],
   "source": [
    "# 52. Element-wise subtraction (arr1 - arr2)\n",
    "arr1 = np.array([2, 4, 6, 8])\n",
    "arr2 = np.array([1, 2, 3, 4])\n",
    "\n",
    "subtraction = arr1 - arr2\n",
    "print(\"Element-wise subtraction:\", subtraction)"
   ]
  },
  {
   "cell_type": "code",
   "execution_count": 59,
   "id": "d66bf294-fc01-4e79-82df-0cb055d1b1e5",
   "metadata": {},
   "outputs": [
    {
     "name": "stdout",
     "output_type": "stream",
     "text": [
      "Element-wise division: [2. 2. 2. 2.]\n"
     ]
    }
   ],
   "source": [
    "# 53. Element-wise multiplication\n",
    "arr1 = np.array([2, 4, 6, 8])\n",
    "arr2 = np.array([1, 2, 3, 4])\n",
    "\n",
    "division = arr1 / arr2\n",
    "print(\"Element-wise division:\", division)"
   ]
  },
  {
   "cell_type": "code",
   "execution_count": 65,
   "id": "fcdbade4-f3e7-4f21-90e4-b0595b18d85b",
   "metadata": {},
   "outputs": [
    {
     "name": "stdout",
     "output_type": "stream",
     "text": [
      "Element-wise exponentiation: [   2   16  216 4096]\n"
     ]
    }
   ],
   "source": [
    "# 55. Element-wise exponentiation (arr1 ** arr2)\n",
    "arr1 = np.array([2, 4, 6, 8])\n",
    "arr2 = np.array([1, 2, 3, 4])\n",
    "\n",
    "exponentiation = arr1 ** arr2\n",
    "print(\"Element-wise exponentiation:\",exponentiation)"
   ]
  },
  {
   "cell_type": "code",
   "execution_count": 66,
   "id": "68cba918-1ab1-4852-a33a-19f908a3fb17",
   "metadata": {},
   "outputs": [
    {
     "name": "stdout",
     "output_type": "stream",
     "text": [
      "Occurrences of 'o': [2 0 0 1]\n"
     ]
    }
   ],
   "source": [
    "# 56. Count occurrences of a substring (e.g., \"o\") in each element\n",
    "str_arr = np.array(['HelloWorld',  'NumPyIsFun', 'HELLO', 'world'])\n",
    "\n",
    "count_o = np.char.count(str_arr, 'o')\n",
    "print(\"Occurrences of 'o':\", count_o)"
   ]
  },
  {
   "cell_type": "code",
   "execution_count": 63,
   "id": "e1a03830-66a0-4479-9235-6b0f42e8f441",
   "metadata": {},
   "outputs": [
    {
     "name": "stdout",
     "output_type": "stream",
     "text": [
      "Uppercase characters: ['HW' 'NPIF' 'HELLO' '']\n"
     ]
    }
   ],
   "source": [
    "# 57. Extract uppercase characters from each string\n",
    "str_arr = np.array(['HelloWorld',  'NumPyIsFun', 'HELLO', 'world'])\n",
    "\n",
    "uppercase_only = np.array([''.join([ch for ch in s if ch.isupper()]) for s in str_arr])\n",
    "print(\"Uppercase characters:\", uppercase_only)"
   ]
  },
  {
   "cell_type": "code",
   "execution_count": 64,
   "id": "77086120-93cf-4ef7-930b-7055da28009b",
   "metadata": {},
   "outputs": [
    {
     "name": "stdout",
     "output_type": "stream",
     "text": [
      "Replaced 'o' with '0': ['Hell0W0rld' 'NumPyIsFun' 'HELLO' 'w0rld']\n"
     ]
    }
   ],
   "source": [
    "# 58. Replace substring occurrences (e.g., \"o\" with \"0\")\n",
    "str_arr = np.array(['HelloWorld',  'NumPyIsFun', 'HELLO', 'world'])\n",
    "\n",
    "replaced = np.char.replace(str_arr, 'o', '0')\n",
    "print(\"Replaced 'o' with '0':\", replaced)"
   ]
  },
  {
   "cell_type": "code",
   "execution_count": 69,
   "id": "2f526e32-87cb-45a5-bab5-ca5ddb1cf167",
   "metadata": {},
   "outputs": [
    {
     "name": "stdout",
     "output_type": "stream",
     "text": [
      "Concatenated array: ['DataBase' 'NumPy' 'Python']\n"
     ]
    }
   ],
   "source": [
    "# 59. Concatenate strings element-wise with another array\n",
    "arr1 = np.array(['Data', 'Num', 'Py'])\n",
    "arr2 = np.array(['Base', 'Py', 'thon'])\n",
    "\n",
    "result = np.char.add(arr1, arr2)\n",
    "print(\"Concatenated array:\", result)"
   ]
  },
  {
   "cell_type": "code",
   "execution_count": 68,
   "id": "36a76876-705a-4229-8bb3-4711e38860ce",
   "metadata": {},
   "outputs": [
    {
     "name": "stdout",
     "output_type": "stream",
     "text": [
      "Length of the longest string: 10\n"
     ]
    }
   ],
   "source": [
    "# 60. Find the length of the longest string\n",
    "str_arr = np.array(['HelloWorld',  'NumPyIsFun', 'HELLO', 'world'])\n",
    "\n",
    "lengths = np.char.str_len(str_arr)\n",
    "longest_length = np.max(lengths)\n",
    "print(\"Length of the longest string:\", longest_length)"
   ]
  },
  {
   "cell_type": "code",
   "execution_count": 70,
   "id": "6019252c-cf16-4b8e-b971-1df955e7f642",
   "metadata": {},
   "outputs": [
    {
     "name": "stdout",
     "output_type": "stream",
     "text": [
      "Mean: 475.36\n",
      "Median: 410.5\n",
      "Variance: 86239.51040000001\n",
      "Standard Deviation: 293.66564388773844\n"
     ]
    }
   ],
   "source": [
    "# 61. Generate 100 random integers (1–1000) and compute mean, median, variance, std deviation\n",
    "data = np.random.randint(1, 1001, 100)\n",
    "\n",
    "mean = np.mean(data)\n",
    "median = np.median(data)\n",
    "variance = np.var(data)\n",
    "std_dev = np.std(data)\n",
    "\n",
    "print(\"Mean:\", mean)\n",
    "print(\"Median:\", median)\n",
    "print(\"Variance:\", variance)\n",
    "print(\"Standard Deviation:\", std_dev)"
   ]
  },
  {
   "cell_type": "code",
   "execution_count": 71,
   "id": "342f68ab-82ad-4bff-a285-68aee8c999a7",
   "metadata": {},
   "outputs": [
    {
     "name": "stdout",
     "output_type": "stream",
     "text": [
      "25th Percentile: 21.0\n",
      "75th Percentile: 80.75\n"
     ]
    }
   ],
   "source": [
    "# 62. Generate 50 random numbers (1–100) and compute the 25th and 75th percentiles\n",
    "data = np.random.randint(1, 101, 50)\n",
    "\n",
    "percentile_25 = np.percentile(data, 25)\n",
    "percentile_75 = np.percentile(data, 75)\n",
    "\n",
    "print(\"25th Percentile:\", percentile_25)\n",
    "print(\"75th Percentile:\", percentile_75)"
   ]
  },
  {
   "cell_type": "code",
   "execution_count": 72,
   "id": "49fedc78-2197-4086-b4e2-ea71894814c1",
   "metadata": {},
   "outputs": [
    {
     "name": "stdout",
     "output_type": "stream",
     "text": [
      "Correlation Coefficient Matrix:\n",
      " [[ 1.        -0.1584177]\n",
      " [-0.1584177  1.       ]]\n"
     ]
    }
   ],
   "source": [
    "# 63. Compute correlation coefficient between two arrays using np.corrcoef\n",
    "x = np.random.randint(10, 100, 20)\n",
    "y = np.random.randint(10, 100, 20)\n",
    "\n",
    "corr_matrix = np.corrcoef(x, y)\n",
    "print(\"Correlation Coefficient Matrix:\\n\", corr_matrix)"
   ]
  },
  {
   "cell_type": "code",
   "execution_count": 73,
   "id": "5ae83679-e84b-4ced-8f60-45674edcfcd4",
   "metadata": {},
   "outputs": [
    {
     "name": "stdout",
     "output_type": "stream",
     "text": [
      "Matrix Multiplication:\n",
      " [[19 22]\n",
      " [43 50]]\n"
     ]
    }
   ],
   "source": [
    "# 64. Perform matrix multiplication using np.dot\n",
    "A = np.array([[1, 2], [3, 4]])\n",
    "B = np.array([[5, 6], [7, 8]])\n",
    "\n",
    "dot_product = np.dot(A, B)\n",
    "print(\"Matrix Multiplication:\\n\", dot_product)"
   ]
  },
  {
   "cell_type": "code",
   "execution_count": 74,
   "id": "d3f764c8-a620-49a1-916e-458008201754",
   "metadata": {},
   "outputs": [
    {
     "name": "stdout",
     "output_type": "stream",
     "text": [
      "10th Percentile: 6.9\n",
      "50th Percentile (Median): 60.5\n",
      "90th Percentile: 80.30000000000001\n",
      "Q1 (25th): 29.5\n",
      "Q3 (75th): 74.5\n"
     ]
    }
   ],
   "source": [
    "# 65. Compute 10th, 50th, and 90th percentiles and quartiles for an array of 50 integers\n",
    "data = np.random.randint(1, 100, 50)\n",
    "\n",
    "p10 = np.percentile(data, 10)\n",
    "p50 = np.percentile(data, 50)  # Also the median\n",
    "p90 = np.percentile(data, 90)\n",
    "\n",
    "q1 = np.percentile(data, 25)\n",
    "q3 = np.percentile(data, 75)\n",
    "\n",
    "print(\"10th Percentile:\", p10)\n",
    "print(\"50th Percentile (Median):\", p50)\n",
    "print(\"90th Percentile:\", p90)\n",
    "print(\"Q1 (25th):\", q1)\n",
    "print(\"Q3 (75th):\", q3)"
   ]
  },
  {
   "cell_type": "code",
   "execution_count": 75,
   "id": "65ad28f3-45db-41e1-8d86-526204af2a17",
   "metadata": {},
   "outputs": [
    {
     "name": "stdout",
     "output_type": "stream",
     "text": [
      "Index of 30: [2]\n"
     ]
    }
   ],
   "source": [
    "# 66. Find index of a specific element in an array\n",
    "arr = np.array([10, 20, 30, 40, 50])\n",
    "index = np.where(arr == 30)[0] \n",
    "print(\"Index of 30:\", index)"
   ]
  },
  {
   "cell_type": "code",
   "execution_count": 76,
   "id": "43ee350e-8c2e-4442-926a-dbd67878a6c4",
   "metadata": {},
   "outputs": [
    {
     "name": "stdout",
     "output_type": "stream",
     "text": [
      "Sorted array: [ 6 17 41 43 54 56 57 58 78 93]\n"
     ]
    }
   ],
   "source": [
    "# 67. Sort a random array in ascending order\n",
    "\n",
    "random_arr = np.random.randint(1, 100, 10)\n",
    "sorted_arr = np.sort(random_arr)\n",
    "print(\"Sorted array:\", sorted_arr)"
   ]
  },
  {
   "cell_type": "code",
   "execution_count": 77,
   "id": "2445a81b-5ef9-449c-88f9-0e3450372114",
   "metadata": {},
   "outputs": [
    {
     "name": "stdout",
     "output_type": "stream",
     "text": [
      "Elements > 20: [25 30 50]\n"
     ]
    }
   ],
   "source": [
    "# 68. Filter elements greater than 20\n",
    "\n",
    "arr = np.array([5, 12, 25, 30, 19, 50])\n",
    "filtered = arr[arr > 20]\n",
    "print(\"Elements > 20:\", filtered)"
   ]
  },
  {
   "cell_type": "code",
   "execution_count": 78,
   "id": "827ffe52-73b5-4df3-9d2a-b42f9dfccc46",
   "metadata": {},
   "outputs": [
    {
     "name": "stdout",
     "output_type": "stream",
     "text": [
      "Divisible by 3: [ 3  9 12 18 21]\n"
     ]
    }
   ],
   "source": [
    "# 69. Filter elements divisible by 3\n",
    "\n",
    "arr = np.array([3, 7, 9, 12, 14, 18, 21])\n",
    "div_by_3 = arr[arr % 3 == 0]\n",
    "print(\"Divisible by 3:\", div_by_3)"
   ]
  },
  {
   "cell_type": "code",
   "execution_count": 79,
   "id": "330e0013-c0e8-4c36-ae62-0339f93964b2",
   "metadata": {},
   "outputs": [
    {
     "name": "stdout",
     "output_type": "stream",
     "text": [
      "Elements between 20 and 40: [22 35 39 20]\n"
     ]
    }
   ],
   "source": [
    "# 70. Filter elements between 20 and 40 (inclusive)\n",
    "\n",
    "arr = np.array([10, 22, 35, 41, 39, 50, 20])\n",
    "filtered_range = arr[(arr >= 20) & (arr <= 40)]\n",
    "print(\"Elements between 20 and 40:\", filtered_range)\n"
   ]
  },
  {
   "cell_type": "code",
   "execution_count": 81,
   "id": "ccf413a6-ec63-4f8c-ac7e-77962e2a967b",
   "metadata": {},
   "outputs": [
    {
     "name": "stdout",
     "output_type": "stream",
     "text": [
      "Byte order: =\n"
     ]
    }
   ],
   "source": [
    "# 71. Check byte order of a NumPy array using dtype.byteorder\n",
    "\n",
    "arr = np.array([1, 2, 3], dtype=np.int16)\n",
    "\n",
    "byte_order = arr.dtype.byteorder\n",
    "print(\"Byte order:\", byte_order)"
   ]
  },
  {
   "cell_type": "code",
   "execution_count": 82,
   "id": "bd24a1d1-21cc-4475-9635-e7f982a5c161",
   "metadata": {},
   "outputs": [
    {
     "name": "stdout",
     "output_type": "stream",
     "text": [
      "Original array: [1 2 3]\n",
      "Byte-swapped array: [256 512 768]\n"
     ]
    }
   ],
   "source": [
    "# 72. Perform in-place byte swapping using byteswap()\n",
    "\n",
    "print(\"Original array:\", arr)\n",
    "\n",
    "arr.byteswap(inplace=True)\n",
    "print(\"Byte-swapped array:\", arr)"
   ]
  },
  {
   "cell_type": "code",
   "execution_count": null,
   "id": "e25feadd-8fe4-483b-bb36-23a54aa5eea8",
   "metadata": {},
   "outputs": [],
   "source": []
  }
 ],
 "metadata": {
  "kernelspec": {
   "display_name": "Python 3 (ipykernel)",
   "language": "python",
   "name": "python3"
  },
  "language_info": {
   "codemirror_mode": {
    "name": "ipython",
    "version": 3
   },
   "file_extension": ".py",
   "mimetype": "text/x-python",
   "name": "python",
   "nbconvert_exporter": "python",
   "pygments_lexer": "ipython3",
   "version": "3.12.7"
  }
 },
 "nbformat": 4,
 "nbformat_minor": 5
}
